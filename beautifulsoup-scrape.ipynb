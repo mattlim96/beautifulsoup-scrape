{
 "cells": [
  {
   "cell_type": "code",
   "execution_count": 1,
   "source": [
    "import requests as req\r\n",
    "import pandas as pd\r\n",
    "import numpy as np\r\n",
    "from bs4 import BeautifulSoup\r\n",
    "import json\r\n",
    "import logging\r\n",
    "import datetime\r\n",
    "\r\n",
    "pd.set_option('display.max_columns', None)\r\n",
    "pd.set_option('display.max_rows', None)\r\n",
    "logging.basicConfig(level=logging.INFO)\r\n",
    "logger = logging.getLogger(__name__)"
   ],
   "outputs": [],
   "metadata": {}
  },
  {
   "cell_type": "code",
   "execution_count": 17,
   "source": [
    "headers = {\"User-Agent\": \"Mozilla/5.0 (X11; CrOS x86_64 12871.102.0) AppleWebKit/537.36 (KHTML, like Gecko) Chrome/81.0.4044.141 Safari/537.36\"}\r\n",
    "\r\n",
    "tescoCNFUrl =\"https://eshop.tesco.com.my/groceries/en-GB/shop/chilled-and-frozen/all?page={page}\"\r\n",
    "tescoFFUrl =\"https://eshop.tesco.com.my/groceries/en-GB/shop/fresh-food/all?page={page}\"\r\n",
    "\r\n",
    "url = tescoCNFUrl.format(page=str(1))\r\n",
    "res = req.get(url, headers=headers)\r\n",
    "html = res.text\r\n",
    "\r\n",
    "soup = BeautifulSoup(html, \"html.parser\")\r\n",
    "lastPageElems = soup.find_all(\"li\", class_=\"pagination-btn-holder\")\r\n",
    "lastPage = int(str(lastPageElems[len(lastPageElems)-2]).split('<span aria-hidden=\"true\">')[1].split('</span>')[0])"
   ],
   "outputs": [],
   "metadata": {}
  },
  {
   "cell_type": "code",
   "execution_count": 3,
   "source": [
    "# Scrape Chilled and Frozen Section\r\n",
    "name = []; price = []; pUnit = []; link = []\r\n",
    "\r\n",
    "for i in range(1,lastPage+1,1):\r\n",
    "    url = tescoCNFUrl.format(page=str(i))\r\n",
    "    res = req.get(url,headers =headers)\r\n",
    "    html = res.text\r\n",
    "    soup = BeautifulSoup(html,\"html.parser\")\r\n",
    "    nameList = soup.find_all(\"a\",class_=\"ui__StyledLink-sc-18aswmp-0 bfYkKW\")\r\n",
    "    priceList = soup.find_all(\"span\",class_=\"value\")\r\n",
    "\r\n",
    "    for j in nameList:\r\n",
    "        name.append(j.contents[0])      \r\n",
    "        link.append(\"https://eshop.tesco.com.my\"+j['href'])\r\n",
    "        \r\n",
    "    k=0\r\n",
    "    while k<len(priceList):\r\n",
    "        price.append(priceList[k].contents[0])\r\n",
    "        pUnit.append(priceList[k+1].contents[0])\r\n",
    "        k+=2\r\n",
    "\r\n",
    "toDf = pd.DataFrame(zip(name,price,pUnit,link), columns=['Product Name','Product Price','Price per Unit','Product Link'])"
   ],
   "outputs": [],
   "metadata": {}
  },
  {
   "cell_type": "code",
   "execution_count": 24,
   "source": [
    "toDf.head()"
   ],
   "outputs": [
    {
     "output_type": "execute_result",
     "data": {
      "text/html": [
       "<div>\n",
       "<style scoped>\n",
       "    .dataframe tbody tr th:only-of-type {\n",
       "        vertical-align: middle;\n",
       "    }\n",
       "\n",
       "    .dataframe tbody tr th {\n",
       "        vertical-align: top;\n",
       "    }\n",
       "\n",
       "    .dataframe thead th {\n",
       "        text-align: right;\n",
       "    }\n",
       "</style>\n",
       "<table border=\"1\" class=\"dataframe\">\n",
       "  <thead>\n",
       "    <tr style=\"text-align: right;\">\n",
       "      <th></th>\n",
       "      <th>Product Name</th>\n",
       "      <th>Product Price</th>\n",
       "      <th>Price per Unit</th>\n",
       "      <th>Product Link</th>\n",
       "    </tr>\n",
       "  </thead>\n",
       "  <tbody>\n",
       "    <tr>\n",
       "      <th>0</th>\n",
       "      <td>Farm Fresh Pure Fresh Milk 2 Litres</td>\n",
       "      <td>14.50</td>\n",
       "      <td>14.50</td>\n",
       "      <td>https://eshop.tesco.com.my/groceries/en-GB/pro...</td>\n",
       "    </tr>\n",
       "    <tr>\n",
       "      <th>1</th>\n",
       "      <td>Farm Fresh Pure Fresh Milk 1 Litre</td>\n",
       "      <td>6.99</td>\n",
       "      <td>6.99</td>\n",
       "      <td>https://eshop.tesco.com.my/groceries/en-GB/pro...</td>\n",
       "    </tr>\n",
       "    <tr>\n",
       "      <th>2</th>\n",
       "      <td>Ayamas Chicken Frankfurters 340g</td>\n",
       "      <td>3.99</td>\n",
       "      <td>3.99</td>\n",
       "      <td>https://eshop.tesco.com.my/groceries/en-GB/pro...</td>\n",
       "    </tr>\n",
       "    <tr>\n",
       "      <th>3</th>\n",
       "      <td>Yakult Ace Cultured Milk Drinks 10 x 80ml</td>\n",
       "      <td>8.89</td>\n",
       "      <td>8.89</td>\n",
       "      <td>https://eshop.tesco.com.my/groceries/en-GB/pro...</td>\n",
       "    </tr>\n",
       "    <tr>\n",
       "      <th>4</th>\n",
       "      <td>Anchor Salted Pure New Zealand Butter 227g</td>\n",
       "      <td>12.35</td>\n",
       "      <td>12.35</td>\n",
       "      <td>https://eshop.tesco.com.my/groceries/en-GB/pro...</td>\n",
       "    </tr>\n",
       "  </tbody>\n",
       "</table>\n",
       "</div>"
      ],
      "text/plain": [
       "                                 Product Name Product Price Price per Unit  \\\n",
       "0         Farm Fresh Pure Fresh Milk 2 Litres         14.50          14.50   \n",
       "1          Farm Fresh Pure Fresh Milk 1 Litre          6.99           6.99   \n",
       "2            Ayamas Chicken Frankfurters 340g          3.99           3.99   \n",
       "3   Yakult Ace Cultured Milk Drinks 10 x 80ml          8.89           8.89   \n",
       "4  Anchor Salted Pure New Zealand Butter 227g         12.35          12.35   \n",
       "\n",
       "                                        Product Link  \n",
       "0  https://eshop.tesco.com.my/groceries/en-GB/pro...  \n",
       "1  https://eshop.tesco.com.my/groceries/en-GB/pro...  \n",
       "2  https://eshop.tesco.com.my/groceries/en-GB/pro...  \n",
       "3  https://eshop.tesco.com.my/groceries/en-GB/pro...  \n",
       "4  https://eshop.tesco.com.my/groceries/en-GB/pro...  "
      ]
     },
     "metadata": {},
     "execution_count": 24
    }
   ],
   "metadata": {}
  }
 ],
 "metadata": {
  "orig_nbformat": 4,
  "language_info": {
   "name": "python",
   "version": "3.8.8",
   "mimetype": "text/x-python",
   "codemirror_mode": {
    "name": "ipython",
    "version": 3
   },
   "pygments_lexer": "ipython3",
   "nbconvert_exporter": "python",
   "file_extension": ".py"
  },
  "kernelspec": {
   "name": "python3",
   "display_name": "Python 3.8.8 64-bit ('base': conda)"
  },
  "interpreter": {
   "hash": "1fcd4bfa725205e95a3be74a2e7b3f4eeccc4e698a610c9426e5641479bde50b"
  }
 },
 "nbformat": 4,
 "nbformat_minor": 2
}