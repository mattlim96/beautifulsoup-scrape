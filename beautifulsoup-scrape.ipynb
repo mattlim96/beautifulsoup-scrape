{
 "cells": [
  {
   "cell_type": "code",
   "execution_count": 16,
   "source": [
    "import requests as req\n",
    "import pandas as pd\n",
    "import numpy as np\n",
    "from bs4 import BeautifulSoup\n",
    "import json\n",
    "import logging\n",
    "import datetime\n",
    "\n",
    "pd.set_option('display.max_columns', None)\n",
    "pd.set_option('display.max_rows', None)\n",
    "logging.basicConfig(level=logging.INFO)\n",
    "logger = logging.getLogger(__name__)"
   ],
   "outputs": [],
   "metadata": {}
  },
  {
   "cell_type": "code",
   "execution_count": 17,
   "source": [
    "headers = {\"User-Agent\": \"Mozilla/5.0 (X11; CrOS x86_64 12871.102.0) AppleWebKit/537.36 (KHTML, like Gecko) Chrome/81.0.4044.141 Safari/537.36\"}\n",
    "\n",
    "tescoCNFUrl =\"https://eshop.tesco.com.my/groceries/en-GB/shop/chilled-and-frozen/all?page={page}\"\n",
    "tescoFFUrl =\"https://eshop.tesco.com.my/groceries/en-GB/shop/fresh-food/all?page={page}\"\n",
    "\n",
    "url = tescoCNFUrl.format(page=str(1))\n",
    "res = req.get(url, headers=headers)\n",
    "html = res.text\n",
    "\n",
    "soup = BeautifulSoup(html, \"html.parser\")\n",
    "lastPageElems = soup.find_all(\"li\", class_=\"pagination-btn-holder\")\n",
    "lastPage = int(str(lastPageElems[len(lastPageElems)-2]).split('<span aria-hidden=\"true\">')[1].split('</span>')[0])"
   ],
   "outputs": [],
   "metadata": {}
  },
  {
   "cell_type": "code",
   "execution_count": 3,
   "source": [
    "# Scrape Chilled and Frozen Section\n",
    "name = []; price = []; pUnit = []; link = []\n",
    "\n",
    "for i in range(1,lastPage+1,1):\n",
    "    url = tescoCNFUrl.format(page=str(i))\n",
    "    res = req.get(url,headers =headers)\n",
    "    html = res.text\n",
    "    soup = BeautifulSoup(html,\"html.parser\")\n",
    "    nameList = soup.find_all(\"a\",class_=\"ui__StyledLink-sc-18aswmp-0 bfYkKW\")\n",
    "    priceList = soup.find_all(\"span\",class_=\"value\")\n",
    "\n",
    "    for j in nameList:\n",
    "        name.append(j.contents[0])      \n",
    "        link.append(\"https://eshop.tesco.com.my\"+j['href'])\n",
    "        \n",
    "    k=0\n",
    "    while k<len(priceList):\n",
    "        price.append(priceList[k].contents[0])\n",
    "        pUnit.append(priceList[k+1].contents[0])\n",
    "        k+=2\n",
    "\n",
    "toDf = pd.DataFrame(zip(name,price,pUnit,link), columns=['Product Name','Product Price','Price per Unit','Product Link'])"
   ],
   "outputs": [],
   "metadata": {}
  },
  {
   "cell_type": "code",
   "execution_count": 24,
   "source": [
    "toDf.head()"
   ],
   "outputs": [
    {
     "output_type": "execute_result",
     "data": {
      "text/html": [
       "<div>\n",
       "<style scoped>\n",
       "    .dataframe tbody tr th:only-of-type {\n",
       "        vertical-align: middle;\n",
       "    }\n",
       "\n",
       "    .dataframe tbody tr th {\n",
       "        vertical-align: top;\n",
       "    }\n",
       "\n",
       "    .dataframe thead th {\n",
       "        text-align: right;\n",
       "    }\n",
       "</style>\n",
       "<table border=\"1\" class=\"dataframe\">\n",
       "  <thead>\n",
       "    <tr style=\"text-align: right;\">\n",
       "      <th></th>\n",
       "      <th>Product Name</th>\n",
       "      <th>Product Price</th>\n",
       "      <th>Price per Unit</th>\n",
       "      <th>Product Link</th>\n",
       "    </tr>\n",
       "  </thead>\n",
       "  <tbody>\n",
       "    <tr>\n",
       "      <th>0</th>\n",
       "      <td>Farm Fresh Pure Fresh Milk 2 Litres</td>\n",
       "      <td>14.50</td>\n",
       "      <td>14.50</td>\n",
       "      <td>https://eshop.tesco.com.my/groceries/en-GB/pro...</td>\n",
       "    </tr>\n",
       "    <tr>\n",
       "      <th>1</th>\n",
       "      <td>Farm Fresh Pure Fresh Milk 1 Litre</td>\n",
       "      <td>6.99</td>\n",
       "      <td>6.99</td>\n",
       "      <td>https://eshop.tesco.com.my/groceries/en-GB/pro...</td>\n",
       "    </tr>\n",
       "    <tr>\n",
       "      <th>2</th>\n",
       "      <td>Ayamas Chicken Frankfurters 340g</td>\n",
       "      <td>3.99</td>\n",
       "      <td>3.99</td>\n",
       "      <td>https://eshop.tesco.com.my/groceries/en-GB/pro...</td>\n",
       "    </tr>\n",
       "    <tr>\n",
       "      <th>3</th>\n",
       "      <td>Yakult Ace Cultured Milk Drinks 10 x 80ml</td>\n",
       "      <td>8.89</td>\n",
       "      <td>8.89</td>\n",
       "      <td>https://eshop.tesco.com.my/groceries/en-GB/pro...</td>\n",
       "    </tr>\n",
       "    <tr>\n",
       "      <th>4</th>\n",
       "      <td>Anchor Salted Pure New Zealand Butter 227g</td>\n",
       "      <td>12.35</td>\n",
       "      <td>12.35</td>\n",
       "      <td>https://eshop.tesco.com.my/groceries/en-GB/pro...</td>\n",
       "    </tr>\n",
       "  </tbody>\n",
       "</table>\n",
       "</div>"
      ],
      "text/plain": [
       "                                 Product Name Product Price Price per Unit  \\\n",
       "0         Farm Fresh Pure Fresh Milk 2 Litres         14.50          14.50   \n",
       "1          Farm Fresh Pure Fresh Milk 1 Litre          6.99           6.99   \n",
       "2            Ayamas Chicken Frankfurters 340g          3.99           3.99   \n",
       "3   Yakult Ace Cultured Milk Drinks 10 x 80ml          8.89           8.89   \n",
       "4  Anchor Salted Pure New Zealand Butter 227g         12.35          12.35   \n",
       "\n",
       "                                        Product Link  \n",
       "0  https://eshop.tesco.com.my/groceries/en-GB/pro...  \n",
       "1  https://eshop.tesco.com.my/groceries/en-GB/pro...  \n",
       "2  https://eshop.tesco.com.my/groceries/en-GB/pro...  \n",
       "3  https://eshop.tesco.com.my/groceries/en-GB/pro...  \n",
       "4  https://eshop.tesco.com.my/groceries/en-GB/pro...  "
      ]
     },
     "metadata": {},
     "execution_count": 24
    }
   ],
   "metadata": {}
  }
 ],
 "metadata": {
  "orig_nbformat": 4,
  "language_info": {
   "name": "python",
   "version": "3.8.11",
   "mimetype": "text/x-python",
   "codemirror_mode": {
    "name": "ipython",
    "version": 3
   },
   "pygments_lexer": "ipython3",
   "nbconvert_exporter": "python",
   "file_extension": ".py"
  },
  "kernelspec": {
   "name": "python3",
   "display_name": "Python 3.8.11 64-bit ('base': conda)"
  },
  "interpreter": {
   "hash": "dca0ade3e726a953b501b15e8e990130d2b7799f14cfd9f4271676035ebe5511"
  }
 },
 "nbformat": 4,
 "nbformat_minor": 2
}